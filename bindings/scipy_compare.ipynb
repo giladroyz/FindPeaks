{
 "cells": [
  {
   "cell_type": "markdown",
   "id": "3536e50f",
   "metadata": {},
   "source": [
    "# Find Peaks Library Performance and Validation\n",
    "\n",
    "This notebook compares the C and C++ implementations of the Find Peaks library against SciPy's reference implementation. It validates correctness and benchmarks performance.\n",
    "\n",
    "## Setup and Imports"
   ]
  },
  {
   "cell_type": "code",
   "execution_count": null,
   "id": "ad6c395f-ed4b-4958-9690-eda20e733c59",
   "metadata": {},
   "outputs": [],
   "source": [
    "import sys\n",
    "import numpy as np\n",
    "from scipy.signal import find_peaks\n",
    "\n",
    "# Add the path to our Python bindings\n",
    "# # For example:\n",
    "# sys.path.insert(0, '../cmake-build-release/bindings/')\n",
    "\n",
    "sys.path.insert(0, '<path_to_your_cpp_bindings>') # Adjust this path to your setup (where the .pyd / .so is)\n",
    "\n",
    "# Import our C and C++ implementations\n",
    "from find_peaks_wrapper import find_peaks_cpp, find_peaks_c"
   ]
  },
  {
   "cell_type": "markdown",
   "id": "995b800c",
   "metadata": {},
   "source": [
    "## Test Data Generation\n",
    "\n",
    "We'll create a large random signal for testing and define functions to generate random parameter sets."
   ]
  },
  {
   "cell_type": "code",
   "execution_count": null,
   "id": "f2cd25b0-fb2d-4dfd-9773-a95892ac2ced",
   "metadata": {},
   "outputs": [],
   "source": [
    "# Set random seed for reproducibility\n",
    "np.random.seed(42)"
   ]
  },
  {
   "cell_type": "code",
   "execution_count": null,
   "id": "6fe6f0fd-06ad-43b5-9d34-21c8fdbe83ee",
   "metadata": {},
   "outputs": [],
   "source": [
    "# Generate test signal with 100,000 points\n",
    "x = np.random.randn(100000)"
   ]
  },
  {
   "cell_type": "code",
   "execution_count": null,
   "id": "5df22080-a23f-4dac-9810-c9b74852374d",
   "metadata": {},
   "outputs": [],
   "source": [
    "def generate_params():\n",
    "    \"\"\"Generate random parameter sets for peak detection algorithms.\n",
    "    \n",
    "    Returns:\n",
    "        dict: Dictionary of random parameter values for find_peaks functions\n",
    "    \"\"\"\n",
    "    d = {}\n",
    "    d['height'] = np.random.rand()*5\n",
    "    d['threshold'] = np.random.rand()*5\n",
    "    d['distance'] = 1 + int(np.random.randint(0, 100))\n",
    "    d['prominence'] = np.random.rand()*5\n",
    "    d['width'] = np.random.rand()*5\n",
    "    d['wlen'] = 2 + int(np.random.rand()*5)\n",
    "    d['rel_height'] = np.random.rand()\n",
    "    d['plateau_size'] = int(np.random.randint(0, 100))\n",
    "\n",
    "    return d"
   ]
  },
  {
   "cell_type": "code",
   "execution_count": null,
   "id": "13b9a211-dea0-42bc-9a7f-45203e3c260e",
   "metadata": {},
   "outputs": [],
   "source": [
    "def compare_results(r1, r2):\n",
    "    \"\"\"Compare results from different peak detection implementations.\n",
    "    \n",
    "    Args:\n",
    "        r1: Result tuple from first implementation (peaks, properties)\n",
    "        r2: Result tuple from second implementation (peaks, properties)\n",
    "        \n",
    "    Returns:\n",
    "        bool: True if results match, False otherwise\n",
    "    \"\"\"\n",
    "    # Find common property keys between the two results\n",
    "    common_keys = set(r1[1].keys()).intersection(set(r2[1].keys()))\n",
    "    \n",
    "    # Check if peak indices match\n",
    "    if r1[0].shape != r2[0].shape:\n",
    "        return False\n",
    "    \n",
    "    # Compare peak indices and all common properties\n",
    "    comp1 = np.all(r1[0] == r2[0])\n",
    "    comp2 = np.all([np.all(r1[1][key] == r2[1][key]) for key in common_keys])\n",
    "    \n",
    "    return comp1 and comp2"
   ]
  },
  {
   "cell_type": "markdown",
   "id": "ccf6db62",
   "metadata": {},
   "source": [
    "## Validation Testing\n",
    "\n",
    "Run multiple tests with random parameters to validate that our C and C++ implementations produce the same results as SciPy's reference implementation."
   ]
  },
  {
   "cell_type": "code",
   "execution_count": null,
   "id": "98db02ef-f4c5-470f-852e-e51723832232",
   "metadata": {},
   "outputs": [],
   "source": [
    "print(\"Running validation tests with 100 different parameter sets...\")\n",
    "mismatches = []\n",
    "\n",
    "for i in range(100):\n",
    "    p = generate_params()\n",
    "    \n",
    "    scipy_result = find_peaks(x, **p)\n",
    "    c_result = find_peaks_c(x, **p)\n",
    "    cpp_result = find_peaks_cpp(x, **p)\n",
    "    \n",
    "    if not compare_results(scipy_result, c_result) or not compare_results(scipy_result, cpp_result):\n",
    "        mismatches.append(p)\n",
    "\n",
    "if mismatches:\n",
    "    print(f\"Found {len(mismatches)} parameter sets that produced mismatches:\")\n",
    "    for i, params in enumerate(mismatches):\n",
    "        print(f\"Mismatch {i+1}: {params}\")\n",
    "else:\n",
    "    print(\"All tests passed! All implementations produce the same results.\")"
   ]
  },
  {
   "cell_type": "markdown",
   "id": "968b5f7e",
   "metadata": {},
   "source": [
    "## Performance Benchmarking\n",
    "\n",
    "Compare the performance of SciPy's implementation against our C and C++ implementations."
   ]
  },
  {
   "cell_type": "code",
   "execution_count": null,
   "id": "33b2415d-0148-40d7-b33f-dd23fa1a6066",
   "metadata": {},
   "outputs": [],
   "source": [
    "# Define a consistent set of parameters for benchmarking\n",
    "benchmark_params = {\n",
    "    'height': 1.6, \n",
    "    'threshold': 0.5, \n",
    "    'distance': 53, \n",
    "    'prominence': 3.0, \n",
    "    'width': 2.8, \n",
    "    'wlen': 30, \n",
    "    'rel_height': 0.86, \n",
    "    'plateau_size': 1\n",
    "}"
   ]
  },
  {
   "cell_type": "code",
   "execution_count": null,
   "id": "93d71b10-134a-4976-a0c4-c4162d59d4ce",
   "metadata": {},
   "outputs": [],
   "source": [
    "%%time\n",
    "print(\"Benchmarking SciPy implementation...\")\n",
    "for i in range(10):\n",
    "    scipy_peaks = find_peaks(x, **benchmark_params)\n",
    "print(f\"Found {len(scipy_peaks[0])} peaks\")"
   ]
  },
  {
   "cell_type": "code",
   "execution_count": null,
   "id": "73309a69-5374-4c2a-adee-f9a7220541dd",
   "metadata": {},
   "outputs": [],
   "source": [
    "%%time\n",
    "print(\"Benchmarking C implementation...\")\n",
    "for i in range(10):\n",
    "    c_peaks = find_peaks_c(x, **benchmark_params)\n",
    "print(f\"Found {len(c_peaks[0])} peaks\")"
   ]
  },
  {
   "cell_type": "code",
   "execution_count": null,
   "id": "674245ad-c743-431b-b8e0-69bfec570530",
   "metadata": {},
   "outputs": [],
   "source": [
    "%%time\n",
    "print(\"Benchmarking C++ implementation...\")\n",
    "for i in range(10):\n",
    "    cpp_peaks = find_peaks_cpp(x, **benchmark_params)\n",
    "print(f\"Found {len(cpp_peaks[0])} peaks\")"
   ]
  },
  {
   "cell_type": "markdown",
   "id": "ea3c04b2",
   "metadata": {},
   "source": [
    "## Result Verification\n",
    "\n",
    "Verify that all implementations find the same number of peaks and the same peak locations."
   ]
  },
  {
   "cell_type": "code",
   "execution_count": null,
   "id": "05ce85a4-2285-4221-8219-4408e79b9e1c",
   "metadata": {},
   "outputs": [],
   "source": [
    "# Get results from all implementations\n",
    "scipy_result = find_peaks(x, **benchmark_params)\n",
    "c_result = find_peaks_c(x, **benchmark_params)\n",
    "cpp_result = find_peaks_cpp(x, **benchmark_params)\n",
    "\n",
    "# Print peak counts\n",
    "print(f\"SciPy implementation found {len(scipy_result[0])} peaks\")\n",
    "print(f\"C implementation found {len(c_result[0])} peaks\")\n",
    "print(f\"C++ implementation found {len(cpp_result[0])} peaks\")"
   ]
  },
  {
   "cell_type": "code",
   "execution_count": null,
   "id": "0feb8d89-c4c0-46b1-b007-b7a3f137a384",
   "metadata": {},
   "outputs": [],
   "source": [
    "# Verify results match\n",
    "print(f\"SciPy and C++ results match: {compare_results(scipy_result, cpp_result)}\")\n",
    "print(f\"SciPy and C results match: {compare_results(scipy_result, c_result)}\")\n",
    "print(f\"C and C++ results match: {compare_results(c_result, cpp_result)}\")"
   ]
  },
  {
   "cell_type": "markdown",
   "id": "2ba33a91",
   "metadata": {},
   "source": [
    "## Examine Result Properties\n",
    "\n",
    "Take a closer look at the output properties from each implementation to ensure they match."
   ]
  },
  {
   "cell_type": "code",
   "execution_count": null,
   "id": "f3f24b2d-b619-4475-aed5-c30ad4f06d63",
   "metadata": {},
   "outputs": [],
   "source": [
    "# Print available property keys in each result\n",
    "print(\"SciPy properties:\", list(scipy_result[1].keys()))\n",
    "print(\"C++ properties:\", list(cpp_result[1].keys()))\n",
    "print(\"C properties:\", list(c_result[1].keys()))"
   ]
  },
  {
   "cell_type": "code",
   "execution_count": null,
   "id": "082a7425-7547-4158-998d-1fc3391be591",
   "metadata": {},
   "outputs": [],
   "source": [
    "# Get the common property keys\n",
    "common_keys = set(scipy_result[1].keys()).intersection(\n",
    "                set(c_result[1].keys())).intersection(\n",
    "                set(cpp_result[1].keys()))\n",
    "\n",
    "print(f\"Common property keys found in all implementations: {common_keys}\")"
   ]
  },
  {
   "cell_type": "code",
   "execution_count": null,
   "id": "e1b415b5-ba89-4617-83e0-61bc156c09fc",
   "metadata": {},
   "outputs": [],
   "source": [
    "# Compare property values for a subset of the first few peaks\n",
    "n_peaks_to_show = min(5, len(scipy_result[0]))\n",
    "\n",
    "print(f\"Comparing properties for the first {n_peaks_to_show} peaks:\")\n",
    "print(\"\\nPeak indices:\")\n",
    "print(f\"SciPy: {scipy_result[0][:n_peaks_to_show]}\")\n",
    "print(f\"C++: {cpp_result[0][:n_peaks_to_show]}\")\n",
    "print(f\"C: {c_result[0][:n_peaks_to_show]}\")\n",
    "\n",
    "print(\"\\nProminences:\")\n",
    "print(f\"SciPy: {scipy_result[1]['prominences'][:n_peaks_to_show]}\")\n",
    "print(f\"C++: {cpp_result[1]['prominences'][:n_peaks_to_show]}\")\n",
    "print(f\"C: {c_result[1]['prominences'][:n_peaks_to_show]}\")"
   ]
  },
  {
   "cell_type": "markdown",
   "id": "79a75638",
   "metadata": {},
   "source": [
    "## Conclusion\n",
    "\n",
    "This notebook validates that our C and C++ implementations of the find_peaks algorithm produce results identical to SciPy's reference implementation across a wide range of parameters.\n",
    "\n",
    "Performance benchmarking results show how the native implementations compare to the Python version. The C++ implementation typically provides the best performance, followed by the C implementation, both outperforming the Python/SciPy version."
   ]
  }
 ],
 "metadata": {
  "kernelspec": {
   "display_name": "Python 3 (ipykernel)",
   "language": "python",
   "name": "python3"
  },
  "language_info": {
   "codemirror_mode": {
    "name": "ipython",
    "version": 3
   },
   "file_extension": ".py",
   "mimetype": "text/x-python",
   "name": "python",
   "nbconvert_exporter": "python",
   "pygments_lexer": "ipython3",
   "version": "3.8.10"
  }
 },
 "nbformat": 4,
 "nbformat_minor": 5
}
